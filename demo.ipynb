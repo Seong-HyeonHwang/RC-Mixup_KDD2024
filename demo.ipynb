{
 "cells": [
  {
   "cell_type": "markdown",
   "id": "f4084df4",
   "metadata": {},
   "source": [
    "# Demo Notebook for RC-Mixup\n",
    "This notebook demonstrates how to use the RC-Mixup step by step."
   ]
  },
  {
   "cell_type": "code",
   "execution_count": 1,
   "id": "03e133a6",
   "metadata": {},
   "outputs": [],
   "source": [
    "# Import necessary modules\n",
    "from model import *\n",
    "from utils import *\n",
    "from train import *\n",
    "import numpy as np"
   ]
  },
  {
   "cell_type": "markdown",
   "id": "f9860fa4",
   "metadata": {},
   "source": [
    "## Step 1: Data Preprocessing"
   ]
  },
  {
   "cell_type": "code",
   "execution_count": 2,
   "id": "91bd479a",
   "metadata": {},
   "outputs": [],
   "source": [
    "# Hyperparameters\n",
    "\n",
    "label_dim = 4\n",
    "noise_ratio = 0.3\n",
    "device = torch.device('cuda')\n",
    "seed = 410\n",
    "warmup_epochs = 1000\n",
    "update_epochs = 1000\n",
    "lr_model = 1e-2\n",
    "batch_size = 128\n",
    "alpha = 2\n",
    "L = 500\n",
    "N = 500\n",
    "bw_list = [5, 10, 15, 20]\n",
    "start_bandwidth = 20"
   ]
  },
  {
   "cell_type": "code",
   "execution_count": 3,
   "id": "49451e0d",
   "metadata": {},
   "outputs": [],
   "source": [
    "raw_data = np.load(\"Synthetic_dataset.npy\")\n",
    "\n",
    "dataset = {}\n",
    "dataset[seed] = {}\n",
    "train_data, valid_data, test_data, Y_max, Y_min, noise_idx = preprocess_dataset(seed, raw_data, noise_ratio)\n",
    "x_tr, y_tr = train_data[:, :-label_dim], train_data[:, -label_dim:]\n",
    "x_val, y_val = valid_data[:, :-label_dim], valid_data[:, -label_dim:]\n",
    "x_test, y_test = test_data[:, :-label_dim], test_data[:, -label_dim:]\n",
    "\n",
    "dataset[seed]['x_tr'], dataset[seed]['y_tr'] = x_tr, y_tr\n",
    "dataset[seed]['x_val'], dataset[seed]['y_val'] = x_val, y_val\n",
    "dataset[seed]['x_test'], dataset[seed]['y_test'] = x_test, y_test\n",
    "dataset[seed]['Y_max'], dataset[seed]['Y_min'] = Y_max, Y_min\n",
    "dataset[seed]['noise_idx'] = noise_idx"
   ]
  },
  {
   "cell_type": "markdown",
   "id": "709c6799",
   "metadata": {},
   "source": [
    "## Step 2: Model Training"
   ]
  },
  {
   "cell_type": "code",
   "execution_count": 4,
   "id": "73ff9742",
   "metadata": {},
   "outputs": [
    {
     "name": "stdout",
     "output_type": "stream",
     "text": [
      "Seed: 410,\n",
      "Val RMSE: 7.2685, Val MAPE: 5.9069,\n",
      "Test RMSE: 8.1799, Test MAPE: 6.1727,\n",
      "Runtime: 622.3s\n"
     ]
    }
   ],
   "source": [
    "updated_model = rc_mixup(dataset, noise_ratio, seed, lr_model, alpha, warmup_epochs, update_epochs,\n",
    "             L, N, bw_list, start_bandwidth, batch_size, device = device)"
   ]
  },
  {
   "cell_type": "markdown",
   "id": "07132b5f",
   "metadata": {},
   "source": [
    "Seed: 410,\n",
    "Val RMSE: 7.2685, Val MAPE: 5.9069,\n",
    "Test RMSE: 8.1799, Test MAPE: 6.1727,\n",
    "Runtime: 648.8s"
   ]
  }
 ],
 "metadata": {
  "kernelspec": {
   "display_name": "Torch",
   "language": "python",
   "name": "torch"
  },
  "language_info": {
   "codemirror_mode": {
    "name": "ipython",
    "version": 3
   },
   "file_extension": ".py",
   "mimetype": "text/x-python",
   "name": "python",
   "nbconvert_exporter": "python",
   "pygments_lexer": "ipython3",
   "version": "3.8.13"
  }
 },
 "nbformat": 4,
 "nbformat_minor": 5
}
